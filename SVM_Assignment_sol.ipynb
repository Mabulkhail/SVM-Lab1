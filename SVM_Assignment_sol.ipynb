{
 "cells": [
  {
   "cell_type": "markdown",
   "id": "f64fe8f3",
   "metadata": {},
   "source": [
    "# Tweet classification: Trump vs. Trudeau"
   ]
  },
  {
   "cell_type": "markdown",
   "id": "9e7fe2f9",
   "metadata": {},
   "source": [
    "# 1. Import the libraries\n",
    "\n",
    "- Note : use a specific random state for your solution."
   ]
  },
  {
   "cell_type": "code",
   "execution_count": 39,
   "id": "5ded69b7",
   "metadata": {},
   "outputs": [],
   "source": [
    "import pandas as pd\n",
    "import numpy as nps\n",
    "import matplotlib.pyplot as plt\n",
    "import seaborn as sns\n",
    "%matplotlib inline\n",
    "import warnings\n",
    "warnings.filterwarnings(\"ignore\")"
   ]
  },
  {
   "cell_type": "markdown",
   "id": "0098afc7",
   "metadata": {},
   "source": [
    "# 2. Read the dataset"
   ]
  },
  {
   "cell_type": "code",
   "execution_count": 40,
   "id": "b82cb339",
   "metadata": {},
   "outputs": [
    {
     "data": {
      "text/html": [
       "<div>\n",
       "<style scoped>\n",
       "    .dataframe tbody tr th:only-of-type {\n",
       "        vertical-align: middle;\n",
       "    }\n",
       "\n",
       "    .dataframe tbody tr th {\n",
       "        vertical-align: top;\n",
       "    }\n",
       "\n",
       "    .dataframe thead th {\n",
       "        text-align: right;\n",
       "    }\n",
       "</style>\n",
       "<table border=\"1\" class=\"dataframe\">\n",
       "  <thead>\n",
       "    <tr style=\"text-align: right;\">\n",
       "      <th></th>\n",
       "      <th>id</th>\n",
       "      <th>author</th>\n",
       "      <th>status</th>\n",
       "    </tr>\n",
       "  </thead>\n",
       "  <tbody>\n",
       "    <tr>\n",
       "      <th>0</th>\n",
       "      <td>1</td>\n",
       "      <td>Donald J. Trump</td>\n",
       "      <td>I will be making a major statement from the @W...</td>\n",
       "    </tr>\n",
       "    <tr>\n",
       "      <th>1</th>\n",
       "      <td>2</td>\n",
       "      <td>Donald J. Trump</td>\n",
       "      <td>Just arrived at #ASEAN50 in the Philippines fo...</td>\n",
       "    </tr>\n",
       "    <tr>\n",
       "      <th>2</th>\n",
       "      <td>3</td>\n",
       "      <td>Donald J. Trump</td>\n",
       "      <td>After my tour of Asia, all Countries dealing w...</td>\n",
       "    </tr>\n",
       "    <tr>\n",
       "      <th>3</th>\n",
       "      <td>4</td>\n",
       "      <td>Donald J. Trump</td>\n",
       "      <td>Great to see @RandPaul looking well and back o...</td>\n",
       "    </tr>\n",
       "    <tr>\n",
       "      <th>4</th>\n",
       "      <td>5</td>\n",
       "      <td>Donald J. Trump</td>\n",
       "      <td>Excited to be heading home to see the House pa...</td>\n",
       "    </tr>\n",
       "  </tbody>\n",
       "</table>\n",
       "</div>"
      ],
      "text/plain": [
       "   id           author                                             status\n",
       "0   1  Donald J. Trump  I will be making a major statement from the @W...\n",
       "1   2  Donald J. Trump  Just arrived at #ASEAN50 in the Philippines fo...\n",
       "2   3  Donald J. Trump  After my tour of Asia, all Countries dealing w...\n",
       "3   4  Donald J. Trump  Great to see @RandPaul looking well and back o...\n",
       "4   5  Donald J. Trump  Excited to be heading home to see the House pa..."
      ]
     },
     "execution_count": 40,
     "metadata": {},
     "output_type": "execute_result"
    }
   ],
   "source": [
    "df = pd.read_csv(\"tweets.csv\")\n",
    "df.head()"
   ]
  },
  {
   "cell_type": "code",
   "execution_count": 41,
   "id": "57d0a6d1",
   "metadata": {},
   "outputs": [
    {
     "name": "stdout",
     "output_type": "stream",
     "text": [
      "<class 'pandas.core.frame.DataFrame'>\n",
      "RangeIndex: 400 entries, 0 to 399\n",
      "Data columns (total 3 columns):\n",
      " #   Column  Non-Null Count  Dtype \n",
      "---  ------  --------------  ----- \n",
      " 0   id      400 non-null    int64 \n",
      " 1   author  400 non-null    object\n",
      " 2   status  400 non-null    object\n",
      "dtypes: int64(1), object(2)\n",
      "memory usage: 9.5+ KB\n"
     ]
    }
   ],
   "source": [
    "df.info()"
   ]
  },
  {
   "cell_type": "markdown",
   "id": "973ca1dd",
   "metadata": {},
   "source": [
    "# 3. Split the dataset into X and y"
   ]
  },
  {
   "cell_type": "code",
   "execution_count": 42,
   "id": "5f23334b",
   "metadata": {},
   "outputs": [],
   "source": [
    "X = df[\"status\"]\n",
    "y = df[\"author\"]"
   ]
  },
  {
   "cell_type": "markdown",
   "id": "0555d930",
   "metadata": {},
   "source": [
    "# 4. Split the dataset into training set and testing set"
   ]
  },
  {
   "cell_type": "code",
   "execution_count": 43,
   "id": "6e46c11e",
   "metadata": {},
   "outputs": [],
   "source": [
    "from sklearn.model_selection import train_test_split"
   ]
  },
  {
   "cell_type": "code",
   "execution_count": 44,
   "id": "3b0eca55",
   "metadata": {},
   "outputs": [],
   "source": [
    "X_train, X_test, y_train, y_test = train_test_split(X, y, test_size=0.30, random_state = 5)\n"
   ]
  },
  {
   "cell_type": "markdown",
   "id": "19af5bd9",
   "metadata": {},
   "source": [
    "# 5. Vectorize the tweets\n",
    "\n",
    "- Note : Read about CountVectorizer and TfidfVectorizer methods and use them in training and testing dataset."
   ]
  },
  {
   "cell_type": "code",
   "execution_count": 45,
   "id": "addc51c9",
   "metadata": {},
   "outputs": [],
   "source": [
    "from sklearn.feature_extraction.text import CountVectorizer, TfidfVectorizer "
   ]
  },
  {
   "cell_type": "code",
   "execution_count": 46,
   "id": "08cd6b10",
   "metadata": {},
   "outputs": [],
   "source": [
    "# CountVectorizer\n",
    "vectorizer = CountVectorizer(stop_words='english', min_df=0.05, max_df=0.9)\n",
    "vectorizer_train = count_vectorizer.fit_transform(X_train)\n",
    "vectorizer_test = count_vectorizer.transform(X_test)\n",
    "\n",
    "# TfidfVectorizer\n",
    "tfidf = TfidfVectorizer(stop_words='english', min_df=0.05, max_df=0.9)\n",
    "tfidf_train = count_tfid.fit_transform(X_train)\n",
    "tfidf_test = count_tfid.transform(X_test)\n"
   ]
  },
  {
   "cell_type": "markdown",
   "id": "be72e926",
   "metadata": {},
   "source": [
    "# 6. Train a Logistic Regression model\n",
    "\n",
    "- Build and train two models, the first by using the tfidf data, and the second by using count vectorize data."
   ]
  },
  {
   "cell_type": "code",
   "execution_count": 51,
   "id": "5e1cccc1",
   "metadata": {},
   "outputs": [],
   "source": [
    "from sklearn.linear_model import LogisticRegression \n",
    "from sklearn.metrics import classification_report, confusion_matrix, accuracy_score\n",
    "\n",
    "logmodel_vect = LogisticRegression()\n",
    "logmodel_tfidf = LogisticRegression()"
   ]
  },
  {
   "cell_type": "code",
   "execution_count": 49,
   "id": "cceceaf6",
   "metadata": {},
   "outputs": [],
   "source": [
    "logmodel_vect.fit(vectorizer_train,y_train)\n",
    "# "
   ]
  },
  {
   "cell_type": "code",
   "execution_count": 50,
   "id": "cad57272",
   "metadata": {},
   "outputs": [],
   "source": [
    "\n",
    "logmodel_tfidf.fit(tfidf_train,y_train)\n",
    "# log_pred2 = logmodel.predict(tfidf_test)"
   ]
  },
  {
   "cell_type": "markdown",
   "id": "3098f445",
   "metadata": {},
   "source": [
    "# 7. Train a SVM model\n",
    "\n",
    "- Build and train two models, the first by using the tfidf data, and the second by using count vectorize data."
   ]
  },
  {
   "cell_type": "code",
   "execution_count": 52,
   "id": "e0b7d25a",
   "metadata": {},
   "outputs": [],
   "source": [
    "from sklearn.svm import SVC\n",
    "\n",
    "svm_vect = SVC()\n",
    "svm_tfidf = SVC()"
   ]
  },
  {
   "cell_type": "code",
   "execution_count": 53,
   "id": "1f0e875b",
   "metadata": {},
   "outputs": [
    {
     "data": {
      "text/html": [
       "<style>#sk-container-id-4 {color: black;background-color: white;}#sk-container-id-4 pre{padding: 0;}#sk-container-id-4 div.sk-toggleable {background-color: white;}#sk-container-id-4 label.sk-toggleable__label {cursor: pointer;display: block;width: 100%;margin-bottom: 0;padding: 0.3em;box-sizing: border-box;text-align: center;}#sk-container-id-4 label.sk-toggleable__label-arrow:before {content: \"▸\";float: left;margin-right: 0.25em;color: #696969;}#sk-container-id-4 label.sk-toggleable__label-arrow:hover:before {color: black;}#sk-container-id-4 div.sk-estimator:hover label.sk-toggleable__label-arrow:before {color: black;}#sk-container-id-4 div.sk-toggleable__content {max-height: 0;max-width: 0;overflow: hidden;text-align: left;background-color: #f0f8ff;}#sk-container-id-4 div.sk-toggleable__content pre {margin: 0.2em;color: black;border-radius: 0.25em;background-color: #f0f8ff;}#sk-container-id-4 input.sk-toggleable__control:checked~div.sk-toggleable__content {max-height: 200px;max-width: 100%;overflow: auto;}#sk-container-id-4 input.sk-toggleable__control:checked~label.sk-toggleable__label-arrow:before {content: \"▾\";}#sk-container-id-4 div.sk-estimator input.sk-toggleable__control:checked~label.sk-toggleable__label {background-color: #d4ebff;}#sk-container-id-4 div.sk-label input.sk-toggleable__control:checked~label.sk-toggleable__label {background-color: #d4ebff;}#sk-container-id-4 input.sk-hidden--visually {border: 0;clip: rect(1px 1px 1px 1px);clip: rect(1px, 1px, 1px, 1px);height: 1px;margin: -1px;overflow: hidden;padding: 0;position: absolute;width: 1px;}#sk-container-id-4 div.sk-estimator {font-family: monospace;background-color: #f0f8ff;border: 1px dotted black;border-radius: 0.25em;box-sizing: border-box;margin-bottom: 0.5em;}#sk-container-id-4 div.sk-estimator:hover {background-color: #d4ebff;}#sk-container-id-4 div.sk-parallel-item::after {content: \"\";width: 100%;border-bottom: 1px solid gray;flex-grow: 1;}#sk-container-id-4 div.sk-label:hover label.sk-toggleable__label {background-color: #d4ebff;}#sk-container-id-4 div.sk-serial::before {content: \"\";position: absolute;border-left: 1px solid gray;box-sizing: border-box;top: 0;bottom: 0;left: 50%;z-index: 0;}#sk-container-id-4 div.sk-serial {display: flex;flex-direction: column;align-items: center;background-color: white;padding-right: 0.2em;padding-left: 0.2em;position: relative;}#sk-container-id-4 div.sk-item {position: relative;z-index: 1;}#sk-container-id-4 div.sk-parallel {display: flex;align-items: stretch;justify-content: center;background-color: white;position: relative;}#sk-container-id-4 div.sk-item::before, #sk-container-id-4 div.sk-parallel-item::before {content: \"\";position: absolute;border-left: 1px solid gray;box-sizing: border-box;top: 0;bottom: 0;left: 50%;z-index: -1;}#sk-container-id-4 div.sk-parallel-item {display: flex;flex-direction: column;z-index: 1;position: relative;background-color: white;}#sk-container-id-4 div.sk-parallel-item:first-child::after {align-self: flex-end;width: 50%;}#sk-container-id-4 div.sk-parallel-item:last-child::after {align-self: flex-start;width: 50%;}#sk-container-id-4 div.sk-parallel-item:only-child::after {width: 0;}#sk-container-id-4 div.sk-dashed-wrapped {border: 1px dashed gray;margin: 0 0.4em 0.5em 0.4em;box-sizing: border-box;padding-bottom: 0.4em;background-color: white;}#sk-container-id-4 div.sk-label label {font-family: monospace;font-weight: bold;display: inline-block;line-height: 1.2em;}#sk-container-id-4 div.sk-label-container {text-align: center;}#sk-container-id-4 div.sk-container {/* jupyter's `normalize.less` sets `[hidden] { display: none; }` but bootstrap.min.css set `[hidden] { display: none !important; }` so we also need the `!important` here to be able to override the default hidden behavior on the sphinx rendered scikit-learn.org. See: https://github.com/scikit-learn/scikit-learn/issues/21755 */display: inline-block !important;position: relative;}#sk-container-id-4 div.sk-text-repr-fallback {display: none;}</style><div id=\"sk-container-id-4\" class=\"sk-top-container\"><div class=\"sk-text-repr-fallback\"><pre>SVC()</pre><b>In a Jupyter environment, please rerun this cell to show the HTML representation or trust the notebook. <br />On GitHub, the HTML representation is unable to render, please try loading this page with nbviewer.org.</b></div><div class=\"sk-container\" hidden><div class=\"sk-item\"><div class=\"sk-estimator sk-toggleable\"><input class=\"sk-toggleable__control sk-hidden--visually\" id=\"sk-estimator-id-4\" type=\"checkbox\" checked><label for=\"sk-estimator-id-4\" class=\"sk-toggleable__label sk-toggleable__label-arrow\">SVC</label><div class=\"sk-toggleable__content\"><pre>SVC()</pre></div></div></div></div></div>"
      ],
      "text/plain": [
       "SVC()"
      ]
     },
     "execution_count": 53,
     "metadata": {},
     "output_type": "execute_result"
    }
   ],
   "source": [
    "svm_vect.fit(vectorizer_train,y_train)"
   ]
  },
  {
   "cell_type": "code",
   "execution_count": 54,
   "id": "0061f630",
   "metadata": {},
   "outputs": [
    {
     "data": {
      "text/html": [
       "<style>#sk-container-id-5 {color: black;background-color: white;}#sk-container-id-5 pre{padding: 0;}#sk-container-id-5 div.sk-toggleable {background-color: white;}#sk-container-id-5 label.sk-toggleable__label {cursor: pointer;display: block;width: 100%;margin-bottom: 0;padding: 0.3em;box-sizing: border-box;text-align: center;}#sk-container-id-5 label.sk-toggleable__label-arrow:before {content: \"▸\";float: left;margin-right: 0.25em;color: #696969;}#sk-container-id-5 label.sk-toggleable__label-arrow:hover:before {color: black;}#sk-container-id-5 div.sk-estimator:hover label.sk-toggleable__label-arrow:before {color: black;}#sk-container-id-5 div.sk-toggleable__content {max-height: 0;max-width: 0;overflow: hidden;text-align: left;background-color: #f0f8ff;}#sk-container-id-5 div.sk-toggleable__content pre {margin: 0.2em;color: black;border-radius: 0.25em;background-color: #f0f8ff;}#sk-container-id-5 input.sk-toggleable__control:checked~div.sk-toggleable__content {max-height: 200px;max-width: 100%;overflow: auto;}#sk-container-id-5 input.sk-toggleable__control:checked~label.sk-toggleable__label-arrow:before {content: \"▾\";}#sk-container-id-5 div.sk-estimator input.sk-toggleable__control:checked~label.sk-toggleable__label {background-color: #d4ebff;}#sk-container-id-5 div.sk-label input.sk-toggleable__control:checked~label.sk-toggleable__label {background-color: #d4ebff;}#sk-container-id-5 input.sk-hidden--visually {border: 0;clip: rect(1px 1px 1px 1px);clip: rect(1px, 1px, 1px, 1px);height: 1px;margin: -1px;overflow: hidden;padding: 0;position: absolute;width: 1px;}#sk-container-id-5 div.sk-estimator {font-family: monospace;background-color: #f0f8ff;border: 1px dotted black;border-radius: 0.25em;box-sizing: border-box;margin-bottom: 0.5em;}#sk-container-id-5 div.sk-estimator:hover {background-color: #d4ebff;}#sk-container-id-5 div.sk-parallel-item::after {content: \"\";width: 100%;border-bottom: 1px solid gray;flex-grow: 1;}#sk-container-id-5 div.sk-label:hover label.sk-toggleable__label {background-color: #d4ebff;}#sk-container-id-5 div.sk-serial::before {content: \"\";position: absolute;border-left: 1px solid gray;box-sizing: border-box;top: 0;bottom: 0;left: 50%;z-index: 0;}#sk-container-id-5 div.sk-serial {display: flex;flex-direction: column;align-items: center;background-color: white;padding-right: 0.2em;padding-left: 0.2em;position: relative;}#sk-container-id-5 div.sk-item {position: relative;z-index: 1;}#sk-container-id-5 div.sk-parallel {display: flex;align-items: stretch;justify-content: center;background-color: white;position: relative;}#sk-container-id-5 div.sk-item::before, #sk-container-id-5 div.sk-parallel-item::before {content: \"\";position: absolute;border-left: 1px solid gray;box-sizing: border-box;top: 0;bottom: 0;left: 50%;z-index: -1;}#sk-container-id-5 div.sk-parallel-item {display: flex;flex-direction: column;z-index: 1;position: relative;background-color: white;}#sk-container-id-5 div.sk-parallel-item:first-child::after {align-self: flex-end;width: 50%;}#sk-container-id-5 div.sk-parallel-item:last-child::after {align-self: flex-start;width: 50%;}#sk-container-id-5 div.sk-parallel-item:only-child::after {width: 0;}#sk-container-id-5 div.sk-dashed-wrapped {border: 1px dashed gray;margin: 0 0.4em 0.5em 0.4em;box-sizing: border-box;padding-bottom: 0.4em;background-color: white;}#sk-container-id-5 div.sk-label label {font-family: monospace;font-weight: bold;display: inline-block;line-height: 1.2em;}#sk-container-id-5 div.sk-label-container {text-align: center;}#sk-container-id-5 div.sk-container {/* jupyter's `normalize.less` sets `[hidden] { display: none; }` but bootstrap.min.css set `[hidden] { display: none !important; }` so we also need the `!important` here to be able to override the default hidden behavior on the sphinx rendered scikit-learn.org. See: https://github.com/scikit-learn/scikit-learn/issues/21755 */display: inline-block !important;position: relative;}#sk-container-id-5 div.sk-text-repr-fallback {display: none;}</style><div id=\"sk-container-id-5\" class=\"sk-top-container\"><div class=\"sk-text-repr-fallback\"><pre>SVC()</pre><b>In a Jupyter environment, please rerun this cell to show the HTML representation or trust the notebook. <br />On GitHub, the HTML representation is unable to render, please try loading this page with nbviewer.org.</b></div><div class=\"sk-container\" hidden><div class=\"sk-item\"><div class=\"sk-estimator sk-toggleable\"><input class=\"sk-toggleable__control sk-hidden--visually\" id=\"sk-estimator-id-5\" type=\"checkbox\" checked><label for=\"sk-estimator-id-5\" class=\"sk-toggleable__label sk-toggleable__label-arrow\">SVC</label><div class=\"sk-toggleable__content\"><pre>SVC()</pre></div></div></div></div></div>"
      ],
      "text/plain": [
       "SVC()"
      ]
     },
     "execution_count": 54,
     "metadata": {},
     "output_type": "execute_result"
    }
   ],
   "source": [
    "svm_tfidf.fit(tfidf_train,y_train)"
   ]
  },
  {
   "cell_type": "markdown",
   "id": "2d7231bd",
   "metadata": {},
   "source": [
    "# 8. Make a prediction and calculate the score for both Logistic Regression and SVM"
   ]
  },
  {
   "cell_type": "code",
   "execution_count": 55,
   "id": "d96a2080",
   "metadata": {},
   "outputs": [
    {
     "name": "stdout",
     "output_type": "stream",
     "text": [
      "0.7833333333333333\n"
     ]
    }
   ],
   "source": [
    "logmodel_predv = logmodel.predict(vectorizer_test)\n",
    "print(accuracy_score(y_test, logmodel_predv))"
   ]
  },
  {
   "cell_type": "code",
   "execution_count": 56,
   "id": "da7211b2",
   "metadata": {},
   "outputs": [
    {
     "name": "stdout",
     "output_type": "stream",
     "text": [
      "0.7666666666666667\n"
     ]
    }
   ],
   "source": [
    "logmodel_predtf = logmodel.predict(tfidf_test)\n",
    "print(accuracy_score(y_test, logmodel_predtf))"
   ]
  },
  {
   "cell_type": "code",
   "execution_count": 57,
   "id": "cff8d0d1",
   "metadata": {},
   "outputs": [
    {
     "name": "stdout",
     "output_type": "stream",
     "text": [
      "0.8083333333333333\n"
     ]
    }
   ],
   "source": [
    "svm_predv = svm_vect.predict(vectorizer_test)\n",
    "print(accuracy_score(y_test, svm_predv))"
   ]
  },
  {
   "cell_type": "code",
   "execution_count": 58,
   "id": "811e1d03",
   "metadata": {},
   "outputs": [
    {
     "name": "stdout",
     "output_type": "stream",
     "text": [
      "0.8083333333333333\n"
     ]
    }
   ],
   "source": [
    "svm_predtf = svm_tfidf.predict(tfidf_test)\n",
    "print(accuracy_score(y_test, svm_predtf))"
   ]
  },
  {
   "cell_type": "markdown",
   "id": "d01034b8",
   "metadata": {},
   "source": [
    "# 9. Plot a confusion matrix for both Logistic Regression and SVM"
   ]
  },
  {
   "cell_type": "code",
   "execution_count": 70,
   "id": "0cafb458",
   "metadata": {},
   "outputs": [
    {
     "data": {
      "image/png": "[encoded data removed]",
      "text/plain": [
       "<Figure size 1000x600 with 8 Axes>"
      ]
     },
     "metadata": {},
     "output_type": "display_data"
    }
   ],
   "source": [
    "logv = confusion_matrix(y_test, logmodel_predv)\n",
    "logtf = confusion_matrix(y_test, logmodel_predtf)\n",
    "\n",
    "svmv = confusion_matrix(y_test, svm_predv)\n",
    "svmtf = confusion_matrix(y_test, svm_predtf)\n",
    "\n",
    "plt.figure(figsize=(10, 6))\n",
    "\n",
    "plt.subplot(2, 2, 1)\n",
    "sns.heatmap(logv, annot = True);\n",
    "plt.title('Logistic Regression Vectorizer')\n",
    "\n",
    "plt.subplot(2, 2, 2)\n",
    "sns.heatmap(logtf, annot = True);\n",
    "plt.title('Logistic Regression tfidf')\n",
    "\n",
    "plt.subplot(2, 2, 3)\n",
    "sns.heatmap(svmv, annot = True);\n",
    "plt.title('SVM Vectorizer')\n",
    "\n",
    "plt.subplot(2, 2, 4)\n",
    "sns.heatmap(svmtf, annot = True);\n",
    "plt.title(' SVM tfidf');"
   ]
  }
 ],
 "metadata": {
  "kernelspec": {
   "display_name": "Python 3 (ipykernel)",
   "language": "python",
   "name": "python3"
  },
  "language_info": {
   "codemirror_mode": {
    "name": "ipython",
    "version": 3
   },
   "file_extension": ".py",
   "mimetype": "text/x-python",
   "name": "python",
   "nbconvert_exporter": "python",
   "pygments_lexer": "ipython3",
   "version": "3.11.3"
  }
 },
 "nbformat": 4,
 "nbformat_minor": 5
}
